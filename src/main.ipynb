{
 "cells": [
  {
   "cell_type": "markdown",
   "id": "eda067ae",
   "metadata": {},
   "source": [
    "# Project 3"
   ]
  },
  {
   "cell_type": "markdown",
   "id": "b91f58e3",
   "metadata": {},
   "source": [
    "## Say hello to the best place in the world to build a videogame business"
   ]
  },
  {
   "cell_type": "code",
   "execution_count": 3,
   "id": "482cd068",
   "metadata": {},
   "outputs": [],
   "source": [
    "# importing the libraries I need\n",
    "import os\n",
    "import requests\n",
    "import json\n",
    "from dotenv import load_dotenv\n",
    "import pandas as pd\n",
    "import numpy as py\n",
    "import geopandas as gpd\n",
    "from cartoframes.viz import Map, Layer\n",
    "from pymongo import MongoClient\n",
    "from pymongo import GEOSPHERE\n",
    "import folium"
   ]
  },
  {
   "cell_type": "code",
   "execution_count": null,
   "id": "e2ceade6",
   "metadata": {},
   "outputs": [],
   "source": [
    "load_dotenv()"
   ]
  },
  {
   "cell_type": "code",
   "execution_count": 5,
   "id": "cfa84a13",
   "metadata": {},
   "outputs": [],
   "source": [
    "# calling mongo \"companies\" database\n",
    "client = MongoClient(\"localhost:27017\")\n",
    "db = client[\"ironhack\"] "
   ]
  },
  {
   "cell_type": "code",
   "execution_count": null,
   "id": "991c837f",
   "metadata": {},
   "outputs": [],
   "source": []
  },
  {
   "cell_type": "code",
   "execution_count": null,
   "id": "6bb1bb6b",
   "metadata": {},
   "outputs": [],
   "source": []
  },
  {
   "cell_type": "code",
   "execution_count": null,
   "id": "e6fb6700",
   "metadata": {},
   "outputs": [],
   "source": []
  },
  {
   "cell_type": "code",
   "execution_count": null,
   "id": "0b8653b8",
   "metadata": {},
   "outputs": [],
   "source": []
  },
  {
   "cell_type": "code",
   "execution_count": null,
   "id": "917cb113",
   "metadata": {},
   "outputs": [],
   "source": []
  },
  {
   "cell_type": "code",
   "execution_count": null,
   "id": "d08fc0cc",
   "metadata": {},
   "outputs": [],
   "source": []
  },
  {
   "cell_type": "code",
   "execution_count": null,
   "id": "2f6a5b48",
   "metadata": {},
   "outputs": [],
   "source": []
  }
 ],
 "metadata": {
  "kernelspec": {
   "display_name": "Python 3 (ipykernel)",
   "language": "python",
   "name": "python3"
  },
  "language_info": {
   "codemirror_mode": {
    "name": "ipython",
    "version": 3
   },
   "file_extension": ".py",
   "mimetype": "text/x-python",
   "name": "python",
   "nbconvert_exporter": "python",
   "pygments_lexer": "ipython3",
   "version": "3.10.6"
  }
 },
 "nbformat": 4,
 "nbformat_minor": 5
}
